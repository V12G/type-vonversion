{
 "cells": [
  {
   "cell_type": "code",
   "execution_count": 2,
   "id": "ab297dfc",
   "metadata": {},
   "outputs": [
    {
     "name": "stdout",
     "output_type": "stream",
     "text": [
      "a <class 'str'>\n"
     ]
    }
   ],
   "source": [
    " # Write a python script to convert a number into str type.\n",
    "a=\"23\"\n",
    "print(\"a\",type(a))"
   ]
  },
  {
   "cell_type": "code",
   "execution_count": 3,
   "id": "29df8f2f",
   "metadata": {},
   "outputs": [
    {
     "data": {
      "text/plain": [
       "109"
      ]
     },
     "execution_count": 3,
     "metadata": {},
     "output_type": "execute_result"
    }
   ],
   "source": [
    "# Write a python script to print Unicode of the character ‘m’\n",
    "ord('m')"
   ]
  },
  {
   "cell_type": "code",
   "execution_count": 5,
   "id": "6c116e13",
   "metadata": {},
   "outputs": [
    {
     "data": {
      "text/plain": [
       "'d'"
      ]
     },
     "execution_count": 5,
     "metadata": {},
     "output_type": "execute_result"
    }
   ],
   "source": [
    "# Write a python script to print character representation of a given unicode 100.\n",
    "x=100\n",
    "chr(x)"
   ]
  },
  {
   "cell_type": "code",
   "execution_count": 10,
   "id": "d3d0b5b6",
   "metadata": {},
   "outputs": [
    {
     "name": "stdout",
     "output_type": "stream",
     "text": [
      "8 0b1000\n"
     ]
    }
   ],
   "source": [
    "# Write a python script to print any number and its binary equivalent\n",
    "a=8\n",
    "print(a, bin(a))"
   ]
  },
  {
   "cell_type": "code",
   "execution_count": 11,
   "id": "6583e248",
   "metadata": {},
   "outputs": [
    {
     "name": "stdout",
     "output_type": "stream",
     "text": [
      "8 0o10\n"
     ]
    }
   ],
   "source": [
    "# Write a python script to print any number and its octal equivalent.\n",
    "print(a, oct(a))"
   ]
  },
  {
   "cell_type": "code",
   "execution_count": 12,
   "id": "b2225e3e",
   "metadata": {},
   "outputs": [
    {
     "name": "stdout",
     "output_type": "stream",
     "text": [
      "8 0x8\n"
     ]
    }
   ],
   "source": [
    "# Write a python script to print any number and its hexadecimal equivalent.\n",
    "print(a, hex(a))"
   ]
  },
  {
   "cell_type": "code",
   "execution_count": 1,
   "id": "534de504",
   "metadata": {},
   "outputs": [
    {
     "name": "stdout",
     "output_type": "stream",
     "text": [
      "101\n"
     ]
    }
   ],
   "source": [
    "'''Write a python script to store binary number 1100101 in a variable and print it in\n",
    "decimal format.'''\n",
    "a=0b1100101\n",
    "print(a)"
   ]
  },
  {
   "cell_type": "code",
   "execution_count": 1,
   "id": "b71907e1",
   "metadata": {},
   "outputs": [
    {
     "name": "stdout",
     "output_type": "stream",
     "text": [
      "0o57\n"
     ]
    }
   ],
   "source": [
    "'''Write a python script to store a hexadecimal number 2F in a variable and print it in\n",
    "octal format.'''\n",
    "h=0x2F\n",
    "print(oct(h))"
   ]
  },
  {
   "cell_type": "code",
   "execution_count": 2,
   "id": "83018bb1",
   "metadata": {},
   "outputs": [
    {
     "name": "stdout",
     "output_type": "stream",
     "text": [
      "0b1010101\n"
     ]
    }
   ],
   "source": [
    "'''Write a python script to store an octal number 125 in a variable and print it in binary\n",
    "format.'''\n",
    "t=0o125\n",
    "print(bin(t))"
   ]
  },
  {
   "cell_type": "code",
   "execution_count": 3,
   "id": "a2abc47e",
   "metadata": {},
   "outputs": [
    {
     "name": "stdout",
     "output_type": "stream",
     "text": [
      "0b10101 0b111001\n"
     ]
    }
   ],
   "source": [
    "'''Write a python script to add two numbers 25 (in octal) and 39 (in hexadecimal) and\n",
    "display the result in binary format.'''\n",
    "a=0o25\n",
    "b=0x39\n",
    "print(bin(a),bin(b))"
   ]
  },
  {
   "cell_type": "code",
   "execution_count": null,
   "id": "e006efa6",
   "metadata": {},
   "outputs": [],
   "source": []
  }
 ],
 "metadata": {
  "kernelspec": {
   "display_name": "Python 3 (ipykernel)",
   "language": "python",
   "name": "python3"
  },
  "language_info": {
   "codemirror_mode": {
    "name": "ipython",
    "version": 3
   },
   "file_extension": ".py",
   "mimetype": "text/x-python",
   "name": "python",
   "nbconvert_exporter": "python",
   "pygments_lexer": "ipython3",
   "version": "3.9.7"
  }
 },
 "nbformat": 4,
 "nbformat_minor": 5
}
